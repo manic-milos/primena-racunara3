{
  "nbformat": 4,
  "nbformat_minor": 0,
  "metadata": {
    "colab": {
      "provenance": [],
      "authorship_tag": "ABX9TyOA3f5H1kErz6k88700SUFj",
      "include_colab_link": true
    },
    "kernelspec": {
      "name": "python3",
      "display_name": "Python 3"
    },
    "language_info": {
      "name": "python"
    }
  },
  "cells": [
    {
      "cell_type": "markdown",
      "metadata": {
        "id": "view-in-github",
        "colab_type": "text"
      },
      "source": [
        "<a href=\"https://colab.research.google.com/github/manic-milos/primena-racunara3/blob/main/Python1.ipynb\" target=\"_parent\"><img src=\"https://colab.research.google.com/assets/colab-badge.svg\" alt=\"Open In Colab\"/></a>"
      ]
    },
    {
      "cell_type": "markdown",
      "source": [
        "# Druga vežba iz Python-a. Obnavljanje. Promenljive, tipovi i indeksiranje. Rad sa niskama i f-stringovi. Duck-typing i tipovi podataka u pythonu."
      ],
      "metadata": {
        "id": "Xtb9FeEMMkkT"
      }
    },
    {
      "cell_type": "markdown",
      "source": [
        "**1.**\n",
        "- Napraviti celobrojnu promenljivu *nAutomobila*, i dati joj neku celobrojnu vrednost.\n",
        "- Napraviti realnu promenljivu *Potrosnja*, i dati joj neku realnu vrednost, koja oslikava potrošnju goriva na 100km za neki automobil.\n",
        "- Napraviti realnu promenljivu *DuzinaPuta*, i dati joj vrednost\n",
        "- Izračunati ukupnu količinu potrošenog goriva za sve automobile, ako svaki od automobila pređe put jednom, i smestiti je u promenljivu *UkupnaPotrosnja*"
      ],
      "metadata": {
        "id": "L3xE4wAQM5Lm"
      }
    },
    {
      "cell_type": "code",
      "source": [],
      "metadata": {
        "id": "c3xHEHU6M4N3"
      },
      "execution_count": null,
      "outputs": []
    },
    {
      "cell_type": "markdown",
      "source": [
        "**2.**\n",
        "- U ćeliji ispod je dat niz potrošnji za automobile. Izvršiti ovaj kod bez izmena"
      ],
      "metadata": {
        "id": "U2DJwNwfOA_u"
      }
    },
    {
      "cell_type": "code",
      "source": [
        "potrosnjaNa100=[8.2,4.8,9.1,7.5,5.5,10.4,5.5] # izvrsiti ovaj kod bez izmena"
      ],
      "metadata": {
        "id": "Hg105r61OBNC"
      },
      "execution_count": null,
      "outputs": []
    },
    {
      "cell_type": "markdown",
      "source": [
        "- Uzevši u obzir promenljivu *DuzinaPuta* iz prethodnog zadatka, ponovo izračunati ukupnu potrošnju, koristeći niz potrošnji *potrosnjaNa100*. Rezultat smestiti u promenljivu *UkupnaPotrosnja1*."
      ],
      "metadata": {
        "id": "fD05q4fdOlo8"
      }
    },
    {
      "cell_type": "code",
      "source": [],
      "metadata": {
        "id": "X4krolgEO8t1"
      },
      "execution_count": null,
      "outputs": []
    },
    {
      "cell_type": "markdown",
      "source": [
        "**3.**\n",
        "- Ispisati indeks najmanje potrošnje i indeks najveće potrošnje na sledeći način:\n",
        " - \"{i}-ti automobil ima najmanju potrošnju\"\n",
        " - \"{j}-ti automobil ima najveću potrošnju\"\n",
        "- indekse *i* i *j* zameniti odgovarajućim. **Rešavati isključivo preko koda, ne koristiti konstantne vrednosti. Kod mora da radi tačno i ako se promeni niz potrosnjaNa100**"
      ],
      "metadata": {
        "id": "t7LU03k6PWck"
      }
    },
    {
      "cell_type": "code",
      "source": [
        "\n"
      ],
      "metadata": {
        "id": "817cvF6SOl0f"
      },
      "execution_count": null,
      "outputs": []
    },
    {
      "cell_type": "markdown",
      "source": [
        "**4.**\n",
        "- Izračunati ukupne potrošnje za svaki element niza *potrosnjaNa100*, koristeći promenljivu *DuzinaPuta*. Smestiti rezultat u promenljivu *ukupnePotrosnje*"
      ],
      "metadata": {
        "id": "8mr1F8EuRgix"
      }
    },
    {
      "cell_type": "code",
      "source": [],
      "metadata": {
        "id": "8X4kCuAyRgxw"
      },
      "execution_count": null,
      "outputs": []
    },
    {
      "cell_type": "markdown",
      "source": [
        "- Sortirati niz *ukupnePotrosnje* i ispisati sve elemente, razdvojene sa \"-\". (savet: koristiti funkciju join za ispis, a sort za sortiranje)\n",
        "\n",
        "\n"
      ],
      "metadata": {
        "id": "sEgQuDrwVJMh"
      }
    },
    {
      "cell_type": "code",
      "source": [],
      "metadata": {
        "id": "0VUoKmykVJU6"
      },
      "execution_count": null,
      "outputs": []
    }
  ]
}