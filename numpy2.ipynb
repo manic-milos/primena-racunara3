{
  "nbformat": 4,
  "nbformat_minor": 0,
  "metadata": {
    "colab": {
      "provenance": [],
      "authorship_tag": "ABX9TyOPMhGAvGGuuH3cRDdlz11T",
      "include_colab_link": true
    },
    "kernelspec": {
      "name": "python3",
      "display_name": "Python 3"
    },
    "language_info": {
      "name": "python"
    }
  },
  "cells": [
    {
      "cell_type": "markdown",
      "metadata": {
        "id": "view-in-github",
        "colab_type": "text"
      },
      "source": [
        "<a href=\"https://colab.research.google.com/github/manic-milos/primena-racunara3/blob/main/numpy2.ipynb\" target=\"_parent\"><img src=\"https://colab.research.google.com/assets/colab-badge.svg\" alt=\"Open In Colab\"/></a>"
      ]
    },
    {
      "cell_type": "markdown",
      "source": [
        "# Numpy i numerička matematika 2. Tipovi podataka nizova, oblik i preoblikovanje."
      ],
      "metadata": {
        "id": "kU2dBxxyWzhG"
      }
    },
    {
      "cell_type": "markdown",
      "source": [
        "1. Napraviti numpy niz *a* od 7 elementa, vrednosti od 3 do 9. Zatim napraviti matricu *A* oblika 7x3 (shape=(3,7)), tako da ima 3 reda, i redovi su vrednosti niza *a*."
      ],
      "metadata": {
        "id": "cx3MKC55XUtX"
      }
    },
    {
      "cell_type": "code",
      "source": [],
      "metadata": {
        "id": "rhMR0I2O8gBH"
      },
      "execution_count": null,
      "outputs": []
    },
    {
      "cell_type": "code",
      "execution_count": null,
      "metadata": {
        "id": "V5k36T_PV_9o"
      },
      "outputs": [],
      "source": []
    },
    {
      "cell_type": "code",
      "source": [],
      "metadata": {
        "id": "QMEvYMyB8252"
      },
      "execution_count": null,
      "outputs": []
    },
    {
      "cell_type": "markdown",
      "source": [
        "2. Proveriti oblik matrice *A*, kao i tip matrice podataka *A*. Napraviti novu matricu *B*, sa istim elementima kao *A*, ali tipa *float32*."
      ],
      "metadata": {
        "id": "-bn2qYAAWzCa"
      }
    },
    {
      "cell_type": "code",
      "source": [],
      "metadata": {
        "id": "AtBnC-lhYwJS"
      },
      "execution_count": null,
      "outputs": []
    },
    {
      "cell_type": "markdown",
      "source": [
        "3. Napraviti matricu *At*, koja ima 7 reda sa po 3 elementa, tako da svaka kolona sadrži elemente niza *a*."
      ],
      "metadata": {
        "id": "7t8ftrrKZVER"
      }
    },
    {
      "cell_type": "code",
      "source": [],
      "metadata": {
        "id": "lruuW1aTZnNh"
      },
      "execution_count": null,
      "outputs": []
    },
    {
      "cell_type": "markdown",
      "source": [
        "4. Pomnožiti matrice *A* i *At* pa ispisati rezultat. Rezultat takođe upisati u promenljivu *G1*. Pomnožiti ih obrnutim redom i upisati u promenljivu *G2*"
      ],
      "metadata": {
        "id": "a4FAttoIZv7o"
      }
    },
    {
      "cell_type": "code",
      "source": [],
      "metadata": {
        "id": "M23Iz8aHZwKz"
      },
      "execution_count": null,
      "outputs": []
    },
    {
      "cell_type": "markdown",
      "source": [
        "5. Transponovati matricu *B*, pa uporediti sa matricom *At*. Koristiti funkciju np.allclose"
      ],
      "metadata": {
        "id": "WAJeo-01aDbL"
      }
    },
    {
      "cell_type": "code",
      "source": [],
      "metadata": {
        "id": "r96V50eSaC42"
      },
      "execution_count": null,
      "outputs": []
    },
    {
      "cell_type": "markdown",
      "source": [
        "6. Napraviti matricu *I*, koja je inverzna matrici *G1+np.eye(3)*, pa onda pomnožiti *I* i *G1* i proveriti rezultat."
      ],
      "metadata": {
        "id": "8mSFuW8xYwjN"
      }
    },
    {
      "cell_type": "code",
      "source": [],
      "metadata": {
        "id": "EipP5Z6-ZGgH"
      },
      "execution_count": null,
      "outputs": []
    },
    {
      "cell_type": "markdown",
      "source": [
        "7. Uporediti rezultat množenja iz prethodnog zadatka sa odgovarajućom jediničnom matricom (np.eye)."
      ],
      "metadata": {
        "id": "0uAW9Bn1ayD3"
      }
    },
    {
      "cell_type": "code",
      "source": [],
      "metadata": {
        "id": "QIhKh9Iva_om"
      },
      "execution_count": null,
      "outputs": []
    },
    {
      "cell_type": "markdown",
      "source": [
        "8. Izračunati determinantu matrice G1. Koristiti funkciju *det* iz paketa *numpy.linalg*"
      ],
      "metadata": {
        "id": "0lGkwCFsbd8c"
      }
    },
    {
      "cell_type": "code",
      "source": [],
      "metadata": {
        "id": "18AQCBJObeKj"
      },
      "execution_count": null,
      "outputs": []
    }
  ]
}