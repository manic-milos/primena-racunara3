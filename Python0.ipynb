{
  "nbformat": 4,
  "nbformat_minor": 0,
  "metadata": {
    "colab": {
      "provenance": [],
      "include_colab_link": true
    },
    "kernelspec": {
      "name": "python3",
      "display_name": "Python 3"
    },
    "language_info": {
      "name": "python"
    }
  },
  "cells": [
    {
      "cell_type": "markdown",
      "metadata": {
        "id": "view-in-github",
        "colab_type": "text"
      },
      "source": [
        "<a href=\"https://colab.research.google.com/github/manic-milos/primena-racunara3/blob/main/Python0.ipynb\" target=\"_parent\"><img src=\"https://colab.research.google.com/assets/colab-badge.svg\" alt=\"Open In Colab\"/></a>"
      ]
    },
    {
      "cell_type": "markdown",
      "source": [
        "# Vežbe iz Python-a. Promenljive, tipovi i indeksiranje. Rad sa niskama i f-stringovi. Duck-typing i tipovi podataka u pajtonu."
      ],
      "metadata": {
        "id": "dfMMhUOxmxOT"
      }
    },
    {
      "cell_type": "markdown",
      "source": [
        " - Napraviti promenljivu *Mile* i dodeliti joj vrednost *10*, a zatim ispitati njen tip."
      ],
      "metadata": {
        "id": "GTS5mNddopnW"
      }
    },
    {
      "cell_type": "code",
      "execution_count": null,
      "metadata": {
        "id": "IxNJXjFvmEeB"
      },
      "outputs": [],
      "source": []
    },
    {
      "cell_type": "markdown",
      "source": [
        "- Napraviti novu promenljivu *Žika* i dodeliti joj vrednost 4.2, a zatim ispitati njen tip."
      ],
      "metadata": {
        "id": "CBPtVrnupW-X"
      }
    },
    {
      "cell_type": "code",
      "source": [],
      "metadata": {
        "id": "ivX2YQr7pXWk"
      },
      "execution_count": null,
      "outputs": []
    },
    {
      "cell_type": "markdown",
      "source": [
        "- Sabrati, podeliti, oduzeti i pomnožiti promenljive, i proveriti rezultujući tip"
      ],
      "metadata": {
        "id": "wAwJXh9cyG0X"
      }
    },
    {
      "cell_type": "code",
      "source": [],
      "metadata": {
        "id": "GmrXLibbyHfA"
      },
      "execution_count": null,
      "outputs": []
    },
    {
      "cell_type": "markdown",
      "source": [
        "- Dat je niz *a* koji sadrži nekoliko elemenata. (Izvršiti ćeliju ispod bez promena)\n",
        "\n"
      ],
      "metadata": {
        "id": "JMcvTKczqeW1"
      }
    },
    {
      "cell_type": "code",
      "source": [
        "a=[9, 8, 4, 7, 1]\n",
        "a"
      ],
      "metadata": {
        "colab": {
          "base_uri": "https://localhost:8080/"
        },
        "id": "7CiNrAteyLxQ",
        "outputId": "e0a2d0d0-4c25-4335-c36f-5e5fa6e61ff2"
      },
      "execution_count": null,
      "outputs": [
        {
          "output_type": "execute_result",
          "data": {
            "text/plain": [
              "[9, 8, 4, 7, 1]"
            ]
          },
          "metadata": {},
          "execution_count": 1
        }
      ]
    },
    {
      "cell_type": "markdown",
      "source": [
        "- Proveriti tip niza *a*"
      ],
      "metadata": {
        "id": "DAIdIhAwyuM6"
      }
    },
    {
      "cell_type": "code",
      "source": [],
      "metadata": {
        "id": "gnS_jUKtyuTl"
      },
      "execution_count": null,
      "outputs": []
    },
    {
      "cell_type": "markdown",
      "source": [
        "- Ispisati njegovu veličinu"
      ],
      "metadata": {
        "id": "3a-MCSLYecbJ"
      }
    },
    {
      "cell_type": "code",
      "source": [],
      "metadata": {
        "id": "B52Qf32Seabe"
      },
      "execution_count": null,
      "outputs": []
    },
    {
      "cell_type": "markdown",
      "source": [
        "- Ispisati njegov prvi element"
      ],
      "metadata": {
        "id": "bUCXG-XIei5P"
      }
    },
    {
      "cell_type": "code",
      "source": [],
      "metadata": {
        "id": "4HQKu9iYelF_"
      },
      "execution_count": null,
      "outputs": []
    },
    {
      "cell_type": "markdown",
      "source": [
        "- Sabrati njegov prvi i poslednji element i smestiti ga u promenljivu *b*\n",
        "- Pomnožiti sve elemente niza *a* promenljivom *b*\n",
        "- Proveriti tip promenljive *b*\n",
        "- Ponovo proveriti tip niza *a*"
      ],
      "metadata": {
        "id": "tRKh6XmIyMBu"
      }
    },
    {
      "cell_type": "code",
      "source": [
        "\n"
      ],
      "metadata": {
        "id": "ti4w7am6qek1"
      },
      "execution_count": null,
      "outputs": []
    },
    {
      "cell_type": "markdown",
      "source": [
        "- Naći medijanu niza *a*"
      ],
      "metadata": {
        "id": "286owPamyYIe"
      }
    },
    {
      "cell_type": "code",
      "source": [
        "\n"
      ],
      "metadata": {
        "id": "Y9bV3uXyyYRW"
      },
      "execution_count": null,
      "outputs": []
    },
    {
      "cell_type": "markdown",
      "source": [
        "- Napraviti promenljivu *Ime* i inicijalizovati joj vrednost svojim imenom\n",
        "- Napraviti promenljivu *Prezime* i inicijalizovati joj vrednost svojim prezimenom\n",
        "- Iskoristiti promenljive *Ime* i *Prezime*, i ispisati \"Zdravo, ja se zovem **Ime** **Prezime**\""
      ],
      "metadata": {
        "id": "Xj0eAjGRwGNX"
      }
    },
    {
      "cell_type": "code",
      "source": [],
      "metadata": {
        "id": "kfm8H30uwGTz"
      },
      "execution_count": null,
      "outputs": []
    },
    {
      "cell_type": "markdown",
      "source": [
        "\n",
        "- Iskoristiti f-string za ispisivanje teksta iz prethodnog koraka"
      ],
      "metadata": {
        "id": "HlPDJDA-yiTJ"
      }
    },
    {
      "cell_type": "code",
      "source": [],
      "metadata": {
        "id": "cyAwS35EyiaV"
      },
      "execution_count": null,
      "outputs": []
    },
    {
      "cell_type": "markdown",
      "source": [
        "- Iskoristiti f-string za ispisivanje dužine niza *a*"
      ],
      "metadata": {
        "id": "sxSeDrCTy28b"
      }
    },
    {
      "cell_type": "code",
      "source": [],
      "metadata": {
        "id": "31RC_gSAy2a5"
      },
      "execution_count": null,
      "outputs": []
    },
    {
      "cell_type": "markdown",
      "source": [
        "- Dat je broj *F*, izvršiti sledeću ćeliju bez izmena"
      ],
      "metadata": {
        "id": "g1R2Wg8vzPrx"
      }
    },
    {
      "cell_type": "code",
      "source": [
        "F=10/3\n",
        "F"
      ],
      "metadata": {
        "colab": {
          "base_uri": "https://localhost:8080/"
        },
        "id": "mmpTHZ8pzJuK",
        "outputId": "e28fc546-26b2-4f87-d428-941f415c142b"
      },
      "execution_count": null,
      "outputs": [
        {
          "output_type": "execute_result",
          "data": {
            "text/plain": [
              "3.3333333333333335"
            ]
          },
          "metadata": {},
          "execution_count": 2
        }
      ]
    },
    {
      "cell_type": "markdown",
      "source": [
        "- Ispisati vrednost broja *F*, ograničavajući ispis na 2 decimale"
      ],
      "metadata": {
        "id": "klpLWDzCzJnv"
      }
    },
    {
      "cell_type": "code",
      "source": [],
      "metadata": {
        "id": "4S1KOCnOzv79"
      },
      "execution_count": null,
      "outputs": []
    },
    {
      "cell_type": "markdown",
      "source": [
        "- Pokušati sabiranje promenljiva *Ime* i *a*"
      ],
      "metadata": {
        "id": "HsmHG1AT0OW5"
      }
    },
    {
      "cell_type": "code",
      "source": [],
      "metadata": {
        "id": "dJMxWzC_0W3G"
      },
      "execution_count": null,
      "outputs": []
    },
    {
      "cell_type": "markdown",
      "source": [
        "- Pokušati bezbedno sabiranje promenljivih *Ime* i *a*. U slučaju da ne mogu da se saberu, nadovezati ih (pretvarajući odgovarajuće vrednosti u string)"
      ],
      "metadata": {
        "id": "eXDGH3n30XMW"
      }
    },
    {
      "cell_type": "code",
      "source": [],
      "metadata": {
        "id": "YQqXh9Yp0lxZ"
      },
      "execution_count": null,
      "outputs": []
    }
  ]
}