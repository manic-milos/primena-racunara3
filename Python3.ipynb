{
  "nbformat": 4,
  "nbformat_minor": 0,
  "metadata": {
    "colab": {
      "provenance": [],
      "authorship_tag": "ABX9TyMfOmdIr3ceLrJ9dH3caQVO",
      "include_colab_link": true
    },
    "kernelspec": {
      "name": "python3",
      "display_name": "Python 3"
    },
    "language_info": {
      "name": "python"
    }
  },
  "cells": [
    {
      "cell_type": "markdown",
      "metadata": {
        "id": "view-in-github",
        "colab_type": "text"
      },
      "source": [
        "<a href=\"https://colab.research.google.com/github/manic-milos/primena-racunara3/blob/main/Python3.ipynb\" target=\"_parent\"><img src=\"https://colab.research.google.com/assets/colab-badge.svg\" alt=\"Open In Colab\"/></a>"
      ]
    },
    {
      "cell_type": "markdown",
      "source": [
        "# Pajton. Blokovi i funkcije. Strukture podataka"
      ],
      "metadata": {
        "id": "Eh3xQnIFMTOv"
      }
    },
    {
      "cell_type": "markdown",
      "source": [
        "1. Напиши код који организује елементе низа тако да прво иду сви парни елементи, а затим непарни, при чему међусобни редослед парних и непарних елемената није битан.\n"
      ],
      "metadata": {
        "id": "yzbT5zt4MdKm"
      }
    },
    {
      "cell_type": "code",
      "execution_count": null,
      "metadata": {
        "id": "OG6ySULoLp8F"
      },
      "outputs": [],
      "source": [
        "а=[2, 5, 3, 6, 1, 8, 9, 10, 11, 4]"
      ]
    },
    {
      "cell_type": "code",
      "source": [],
      "metadata": {
        "id": "6swlRAcJYsH1"
      },
      "execution_count": null,
      "outputs": []
    },
    {
      "cell_type": "markdown",
      "source": [
        "2. Израчунати факториjeл броја помоћу функције factorial(a). Проверити исправност функције следећом ћелијом."
      ],
      "metadata": {
        "id": "0Bs73-ozNpQD"
      }
    },
    {
      "cell_type": "code",
      "source": [],
      "metadata": {
        "id": "0fOA7YQmN6yb"
      },
      "execution_count": null,
      "outputs": []
    },
    {
      "cell_type": "code",
      "source": [
        "assert factorial(5) == 120\n",
        "assert factorial(0) == 1\n",
        "assert factorial(1) == 2"
      ],
      "metadata": {
        "id": "RPsFMM4fOJ43"
      },
      "execution_count": null,
      "outputs": []
    },
    {
      "cell_type": "markdown",
      "source": [
        "3. Сортирати низ парова по другом елементу."
      ],
      "metadata": {
        "id": "kdg6SRYlOjmW"
      }
    },
    {
      "cell_type": "code",
      "source": [
        "a=[(1,2),(2,3),(0,1),(-5,2),(3,1),(-4,-1)]"
      ],
      "metadata": {
        "id": "wus42-8JOjLv"
      },
      "execution_count": null,
      "outputs": []
    },
    {
      "cell_type": "code",
      "source": [],
      "metadata": {
        "id": "Iek3R5cZO959"
      },
      "execution_count": null,
      "outputs": []
    }
  ]
}