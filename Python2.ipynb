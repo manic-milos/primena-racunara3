{
  "nbformat": 4,
  "nbformat_minor": 0,
  "metadata": {
    "colab": {
      "provenance": [],
      "authorship_tag": "ABX9TyPOTLKULLwYhBi2nyjaSPKK",
      "include_colab_link": true
    },
    "kernelspec": {
      "name": "python3",
      "display_name": "Python 3"
    },
    "language_info": {
      "name": "python"
    }
  },
  "cells": [
    {
      "cell_type": "markdown",
      "metadata": {
        "id": "view-in-github",
        "colab_type": "text"
      },
      "source": [
        "<a href=\"https://colab.research.google.com/github/manic-milos/primena-racunara3/blob/main/Python2.ipynb\" target=\"_parent\"><img src=\"https://colab.research.google.com/assets/colab-badge.svg\" alt=\"Open In Colab\"/></a>"
      ]
    },
    {
      "cell_type": "markdown",
      "source": [
        "# Treće vežbe iz pajtona. Blokovi. Kontrola toka, grananje. Korisnički definisane funkcije"
      ],
      "metadata": {
        "id": "CAPN5TP0OFNj"
      }
    },
    {
      "cell_type": "markdown",
      "source": [
        "1. Izvršiti ćeliju ispod, a onda napisati kod u sledećoj ćeliji koji ispisuje \"Polozio\", ako je promenljiva *ocena* iznad 1,5 ili \"Pao\", ako je promenljiva *ocena* ispod 1,5."
      ],
      "metadata": {
        "id": "WVmucjXUOSi2"
      }
    },
    {
      "cell_type": "code",
      "source": [
        "ocena=3.14"
      ],
      "metadata": {
        "id": "ZTEDLe0tOR6e"
      },
      "execution_count": null,
      "outputs": []
    },
    {
      "cell_type": "code",
      "source": [],
      "metadata": {
        "id": "i1WhhnBQO3Ob"
      },
      "execution_count": null,
      "outputs": []
    },
    {
      "cell_type": "markdown",
      "source": [
        "2. Napisati kod u ćeliju ispod koji u odnosu na ocenu ispisuje odgovarajući uspeh:\n",
        "- 4.5-5 odlican\n",
        "- 3.5-4.5 vrlo dobar\n",
        "- 2.5-3.5 dobar\n",
        "- 1.5-2.5 dovoljan\n",
        "- 0-1.5 nedovoljan\n"
      ],
      "metadata": {
        "id": "-Sj6a3iyO13f"
      }
    },
    {
      "cell_type": "code",
      "source": [],
      "metadata": {
        "id": "w6UKWeVePjhJ"
      },
      "execution_count": null,
      "outputs": []
    },
    {
      "cell_type": "markdown",
      "source": [
        "3. Izvršiti kod u sledećoj ćeliji."
      ],
      "metadata": {
        "id": "PNEhEW8TPsri"
      }
    },
    {
      "cell_type": "code",
      "source": [
        "trazeni_uspeh=6.28/2"
      ],
      "metadata": {
        "id": "vNYhQgLhPxhm"
      },
      "execution_count": null,
      "outputs": []
    },
    {
      "cell_type": "markdown",
      "source": [
        "- Napisati kod u sledećoj ćeliji koji ispituje da li je ocena jednaka traženom uspehu, i ako jeste, ispisati: \"Dostignut traženi uspeh\""
      ],
      "metadata": {
        "id": "9BeI8yfnPxqq"
      }
    },
    {
      "cell_type": "code",
      "source": [],
      "metadata": {
        "id": "4tYpPwEbQok2"
      },
      "execution_count": null,
      "outputs": []
    },
    {
      "cell_type": "markdown",
      "source": [
        "4. Izvršiti sledeću ćeliju, pa onda napisati kod koji računa sumu, prosek i maksimum niza *a*."
      ],
      "metadata": {
        "id": "eXEekmYyQEpA"
      }
    },
    {
      "cell_type": "code",
      "source": [
        "a=[4,6,21,7.3,0.1]"
      ],
      "metadata": {
        "id": "LuxhH5aEQE87"
      },
      "execution_count": null,
      "outputs": []
    },
    {
      "cell_type": "code",
      "source": [],
      "metadata": {
        "id": "51QVhMpLQdtx"
      },
      "execution_count": null,
      "outputs": []
    },
    {
      "cell_type": "markdown",
      "source": [
        "5.\n",
        "- Ispisati svaki drugi element niza *a*."
      ],
      "metadata": {
        "id": "rOHoBKdwQZ0a"
      }
    },
    {
      "cell_type": "code",
      "source": [],
      "metadata": {
        "id": "ZK6kUYg8QZ6w"
      },
      "execution_count": null,
      "outputs": []
    },
    {
      "cell_type": "markdown",
      "source": [
        "- Napraviti novi niz *b*, koji sadrži duplirane elemente niza *a*\n",
        "- Napraviti novi niz *c*, koji sadrži polovljene elemente niza *a*.\n"
      ],
      "metadata": {
        "id": "5QwZqMLNQpzP"
      }
    },
    {
      "cell_type": "code",
      "source": [],
      "metadata": {
        "id": "7BC3xcobRFYZ"
      },
      "execution_count": null,
      "outputs": []
    },
    {
      "cell_type": "markdown",
      "source": [
        "6. Napraviti novi niz *d*, koji sadrži zbir odgovarajućih elemenata nizova *a*+*b*+*c*."
      ],
      "metadata": {
        "id": "g0pVR5ZjRSyI"
      }
    },
    {
      "cell_type": "code",
      "source": [],
      "metadata": {
        "id": "-jz87FUzRhmW"
      },
      "execution_count": null,
      "outputs": []
    },
    {
      "cell_type": "markdown",
      "source": [
        "7. Definisati funkciju koja duplira uneseni broj\n"
      ],
      "metadata": {
        "id": "q_UKQRD-SC4m"
      }
    },
    {
      "cell_type": "code",
      "source": [],
      "metadata": {
        "id": "cwOAkWxwSC88"
      },
      "execution_count": null,
      "outputs": []
    },
    {
      "cell_type": "markdown",
      "source": [
        "8. Definisati funkciju koja ispisuje odgovarajuću poruku u odnosu na argument ocena, nalik na 2. zadatak."
      ],
      "metadata": {
        "id": "jKoSPKZFSnTB"
      }
    },
    {
      "cell_type": "code",
      "source": [],
      "metadata": {
        "id": "DtsqKV1lSnW5"
      },
      "execution_count": null,
      "outputs": []
    },
    {
      "cell_type": "markdown",
      "source": [
        "9. Napisati funkciju *samoglasnici*, koja za prosleđen string ispisuje samo samoglasnike redom, npr. \"Dobar dan, dragi gledaoci\"-> \"oa a ai eaoi\"  "
      ],
      "metadata": {
        "id": "peeKh4UUTPy3"
      }
    },
    {
      "cell_type": "code",
      "source": [],
      "metadata": {
        "id": "vd6FhbjWTPDk"
      },
      "execution_count": null,
      "outputs": []
    },
    {
      "cell_type": "code",
      "source": [
        "print(samoglasnici(\"Pajton je super\"))\n",
        "print(samoglasnici(\"trk\"))\n",
        "print(samoglasnici(\"  \"))\n",
        "print(samoglasnici(\"a\"))"
      ],
      "metadata": {
        "id": "6QGmnJB-UQQy"
      },
      "execution_count": null,
      "outputs": []
    }
  ]
}