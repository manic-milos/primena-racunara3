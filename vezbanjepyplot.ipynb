{
  "nbformat": 4,
  "nbformat_minor": 0,
  "metadata": {
    "colab": {
      "provenance": [],
      "include_colab_link": true
    },
    "kernelspec": {
      "name": "python3",
      "display_name": "Python 3"
    },
    "language_info": {
      "name": "python"
    }
  },
  "cells": [
    {
      "cell_type": "markdown",
      "metadata": {
        "id": "view-in-github",
        "colab_type": "text"
      },
      "source": [
        "<a href=\"https://colab.research.google.com/github/manic-milos/primena-racunara3/blob/main/vezbanjepyplot.ipynb\" target=\"_parent\"><img src=\"https://colab.research.google.com/assets/colab-badge.svg\" alt=\"Open In Colab\"/></a>"
      ]
    },
    {
      "cell_type": "markdown",
      "source": [
        "# Crtanje funkcija pomoću paketa Pyplot"
      ],
      "metadata": {
        "id": "AulQfiC5XwvE"
      }
    },
    {
      "cell_type": "markdown",
      "source": [
        "1. Iscrtati 3 funkcije na jednom grafiku:\n",
        "  - sin(x)\n",
        "  - sin(2x)\n",
        "  - sin(x/2)"
      ],
      "metadata": {
        "id": "z3ADYDQGX6u-"
      }
    },
    {
      "cell_type": "code",
      "source": [],
      "metadata": {
        "id": "oUwcOqpuX0YA"
      },
      "execution_count": null,
      "outputs": []
    },
    {
      "cell_type": "markdown",
      "source": [
        "2. Iscrtati funkcije na jednom grafiku:\n",
        "  - sin(x)\n",
        "  - cos(x)"
      ],
      "metadata": {
        "id": "6U4DZrxLAigV"
      }
    },
    {
      "cell_type": "code",
      "source": [],
      "metadata": {
        "id": "nkT9JyuxAq1y"
      },
      "execution_count": null,
      "outputs": []
    },
    {
      "cell_type": "markdown",
      "source": [
        "3. Iscrtati funkcije na jednom grafiku:\n",
        "   - f(x)=x\n",
        "   - f(x)=$x^2$\n",
        "   - f(x)=$x^3$\n",
        "   - f(x)=$2^x$\n",
        "   - f(x)=$3^x$"
      ],
      "metadata": {
        "id": "nBsC6UkuArHu"
      }
    },
    {
      "cell_type": "code",
      "source": [],
      "metadata": {
        "id": "0mfJjEdsBAqn"
      },
      "execution_count": null,
      "outputs": []
    }
  ]
}