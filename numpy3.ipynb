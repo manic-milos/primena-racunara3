{
  "nbformat": 4,
  "nbformat_minor": 0,
  "metadata": {
    "colab": {
      "provenance": [],
      "include_colab_link": true
    },
    "kernelspec": {
      "name": "python3",
      "display_name": "Python 3"
    },
    "language_info": {
      "name": "python"
    }
  },
  "cells": [
    {
      "cell_type": "markdown",
      "metadata": {
        "id": "view-in-github",
        "colab_type": "text"
      },
      "source": [
        "<a href=\"https://colab.research.google.com/github/manic-milos/primena-racunara3/blob/main/numpy3.ipynb\" target=\"_parent\"><img src=\"https://colab.research.google.com/assets/colab-badge.svg\" alt=\"Open In Colab\"/></a>"
      ]
    },
    {
      "cell_type": "markdown",
      "source": [
        "# Rešavanje linearnih jednačina pomoću numpy paketa. Iscrtavanje pomoću matplotlib paketa."
      ],
      "metadata": {
        "id": "Zf2IAlak-Oh7"
      }
    },
    {
      "cell_type": "markdown",
      "source": [
        "1. Napraviti matricu 3x3 M koja predstavlja koeficijente linearne jednačine, i vektor c koji predstavlja faktore linearne jednačine.\n",
        "\n",
        "\n",
        "$x+2y-3z=-4 $\n",
        "\n",
        "$-5y+7z=11$\n",
        "\n",
        "$5y-4z=-2$\n"
      ],
      "metadata": {
        "id": "XWIWl-cq-gRe"
      }
    },
    {
      "cell_type": "code",
      "execution_count": null,
      "metadata": {
        "id": "areHRjEpbaIJ"
      },
      "outputs": [],
      "source": []
    },
    {
      "cell_type": "code",
      "source": [],
      "metadata": {
        "id": "Sg3FIX8-HNx8"
      },
      "execution_count": null,
      "outputs": []
    },
    {
      "cell_type": "markdown",
      "source": [
        "2. Izračunati determinantu sistema. Da li je sistem rešiv?"
      ],
      "metadata": {
        "id": "3CRw9npNHpo6"
      }
    },
    {
      "cell_type": "code",
      "source": [],
      "metadata": {
        "id": "tT1Fvd1BHxgc"
      },
      "execution_count": null,
      "outputs": []
    },
    {
      "cell_type": "markdown",
      "source": [
        "3. Rešiti linearnu jednačinu i ispisati sva rešenja. Proveriti rešenja izvršavanjem ćelije ispod sledeće."
      ],
      "metadata": {
        "id": "C3aOlaYy-Nq4"
      }
    },
    {
      "cell_type": "code",
      "source": [],
      "metadata": {
        "id": "XR_u5gdUHm5q"
      },
      "execution_count": null,
      "outputs": []
    },
    {
      "cell_type": "code",
      "source": [
        "print(M@[x,y,z])\n",
        "np.allclose(M @ [x,y,z], c,rtol=1e-21)"
      ],
      "metadata": {
        "id": "zf840FoAI7GT"
      },
      "execution_count": null,
      "outputs": []
    },
    {
      "cell_type": "markdown",
      "source": [
        "4. Iscrtati funkcije na intervalu [0,1] koristeći pyplot:\n",
        " - log x\n",
        " - sin x\n",
        " - cos x\n",
        " - e^x\n",
        " - 10^x\n",
        " - x^2\n"
      ],
      "metadata": {
        "id": "OcsBvbqbAGu5"
      }
    },
    {
      "cell_type": "code",
      "source": [],
      "metadata": {
        "id": "9NcHsoHRFJ8d"
      },
      "execution_count": null,
      "outputs": []
    },
    {
      "cell_type": "code",
      "source": [],
      "metadata": {
        "id": "j_OoZUPnM9qa"
      },
      "execution_count": null,
      "outputs": []
    },
    {
      "cell_type": "code",
      "source": [],
      "metadata": {
        "id": "xRxIg7zhOFIj"
      },
      "execution_count": null,
      "outputs": []
    },
    {
      "cell_type": "code",
      "source": [],
      "metadata": {
        "id": "61Qf0nJ4OSWb"
      },
      "execution_count": null,
      "outputs": []
    },
    {
      "cell_type": "code",
      "source": [],
      "metadata": {
        "id": "I0o8LcHsOcvE"
      },
      "execution_count": null,
      "outputs": []
    },
    {
      "cell_type": "code",
      "source": [],
      "metadata": {
        "id": "khkCLAiTOzh0"
      },
      "execution_count": null,
      "outputs": []
    },
    {
      "cell_type": "markdown",
      "source": [
        "5. Iscrtati sinus i kosinus na intervalu [-5,5]. Obeležiti x i y ose i dodati legendu."
      ],
      "metadata": {
        "id": "4DICjPt5FJPg"
      }
    },
    {
      "cell_type": "code",
      "source": [],
      "metadata": {
        "id": "ZS7xlAP0Fn1q"
      },
      "execution_count": null,
      "outputs": []
    },
    {
      "cell_type": "markdown",
      "source": [
        "6. Učitati sliku i prikazati je."
      ],
      "metadata": {
        "id": "--zmdmGhGISR"
      }
    },
    {
      "cell_type": "code",
      "source": [],
      "metadata": {
        "id": "JE2uWZbQKqjp"
      },
      "execution_count": null,
      "outputs": []
    },
    {
      "cell_type": "code",
      "source": [],
      "metadata": {
        "id": "ExxFCzKWQxMM"
      },
      "execution_count": null,
      "outputs": []
    }
  ]
}