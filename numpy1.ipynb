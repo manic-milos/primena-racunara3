{
  "nbformat": 4,
  "nbformat_minor": 0,
  "metadata": {
    "colab": {
      "provenance": [],
      "authorship_tag": "ABX9TyNaRQplI+h/0b3ygAUXo6DL",
      "include_colab_link": true
    },
    "kernelspec": {
      "name": "python3",
      "display_name": "Python 3"
    },
    "language_info": {
      "name": "python"
    }
  },
  "cells": [
    {
      "cell_type": "markdown",
      "metadata": {
        "id": "view-in-github",
        "colab_type": "text"
      },
      "source": [
        "<a href=\"https://colab.research.google.com/github/manic-milos/primena-racunara3/blob/main/numpy1.ipynb\" target=\"_parent\"><img src=\"https://colab.research.google.com/assets/colab-badge.svg\" alt=\"Open In Colab\"/></a>"
      ]
    },
    {
      "cell_type": "markdown",
      "source": [
        "# Numpy i numerička matematika u jeziku python. Osnove numpy paketa."
      ],
      "metadata": {
        "id": "zF5d59jusvAS"
      }
    },
    {
      "cell_type": "markdown",
      "source": [
        "1. Importovati paket numpy i proveriti njegovu verziju pomoću funkcije *__ version __*"
      ],
      "metadata": {
        "id": "i-WQEmIOs_8z"
      }
    },
    {
      "cell_type": "code",
      "execution_count": null,
      "metadata": {
        "id": "Ink2ENPNsk3_"
      },
      "outputs": [],
      "source": []
    },
    {
      "cell_type": "markdown",
      "source": [
        "2. Napraviti numpy niz (ndarray) koji sadrži brojeve od 1 do 10, a zatim proveriti tip napravljenog niza."
      ],
      "metadata": {
        "id": "-QviT0i2tLs5"
      }
    },
    {
      "cell_type": "code",
      "source": [],
      "metadata": {
        "id": "LqKRCPZ3zJx6"
      },
      "execution_count": null,
      "outputs": []
    },
    {
      "cell_type": "code",
      "source": [],
      "metadata": {
        "id": "u6vybEWmzt8L"
      },
      "execution_count": null,
      "outputs": []
    },
    {
      "cell_type": "code",
      "source": [],
      "metadata": {
        "id": "YPh4JRfotLGZ"
      },
      "execution_count": null,
      "outputs": []
    },
    {
      "cell_type": "markdown",
      "source": [
        "3. Izvršiti sledeću ćeliju bez promena, a zatim proveriti dimenzije niza *brojevi*. Probati funkciju shape i funkciju len."
      ],
      "metadata": {
        "id": "p6z1PgTEtTKa"
      }
    },
    {
      "cell_type": "code",
      "source": [
        "brojevi=[1,4,6,7,8,9,0]\n",
        "brojevi=np.array(brojevi)"
      ],
      "metadata": {
        "id": "CQ1AS0sEtp9J"
      },
      "execution_count": null,
      "outputs": []
    },
    {
      "cell_type": "code",
      "source": [],
      "metadata": {
        "id": "ID6A1UVUtpja"
      },
      "execution_count": null,
      "outputs": []
    },
    {
      "cell_type": "markdown",
      "source": [
        "4. Napraviti jediničnu matricu veličine 3x3 kao numpy niz."
      ],
      "metadata": {
        "id": "z8k2KS2yuN46"
      }
    },
    {
      "cell_type": "code",
      "source": [],
      "metadata": {
        "id": "ZvsyuKjMud6r"
      },
      "execution_count": null,
      "outputs": []
    },
    {
      "cell_type": "markdown",
      "source": [
        "4a. Proveriti dimenzije te matrice, pomoću funkcije ndim, kao i shape i len."
      ],
      "metadata": {
        "id": "bpfruMSFucvT"
      }
    },
    {
      "cell_type": "code",
      "source": [],
      "metadata": {
        "id": "b6bm639Dukua"
      },
      "execution_count": null,
      "outputs": []
    },
    {
      "cell_type": "markdown",
      "source": [
        "5. Numpy ima funkcije za automatsko kreiranje specijalnih nizova i matrica.\n",
        "- Napraviti matricu 10x10 koja sadrži sve jedinice pomoću funkcije ones.\n",
        "- Napraviti jediničnu matricu 12x12 pomoću funkcije eye\n",
        "- Napraviti niz sa 20 nula pomoću funkcije zeros."
      ],
      "metadata": {
        "id": "eZd-QyWjuohK"
      }
    },
    {
      "cell_type": "code",
      "source": [],
      "metadata": {
        "id": "MD9VhmWgvOrq"
      },
      "execution_count": null,
      "outputs": []
    },
    {
      "cell_type": "code",
      "source": [],
      "metadata": {
        "id": "ARHnvf-Mvn7a"
      },
      "execution_count": null,
      "outputs": []
    },
    {
      "cell_type": "code",
      "source": [],
      "metadata": {
        "id": "y7TyEVeRvoDR"
      },
      "execution_count": null,
      "outputs": []
    },
    {
      "cell_type": "markdown",
      "source": [
        "6. Napraviti niz *x* od 20 brojeva, ravnomerno rasporedjenih izmedju 1 i 7, koristeći funkciju *linspace*."
      ],
      "metadata": {
        "id": "wqJDI-32vO8J"
      }
    },
    {
      "cell_type": "code",
      "source": [],
      "metadata": {
        "id": "1EjkvCfWxAVB"
      },
      "execution_count": null,
      "outputs": []
    },
    {
      "cell_type": "markdown",
      "source": [
        "7. Iskoristiti niz iz prethodnog zadatka kao argument pravljenje niza *y*, koji sadrži sin(x), za svaki pojedinačni broj iz niza *x*."
      ],
      "metadata": {
        "id": "j5fcVUNb4PZ7"
      }
    },
    {
      "cell_type": "code",
      "source": [],
      "metadata": {
        "id": "ahTfNXA6v6yl"
      },
      "execution_count": null,
      "outputs": []
    }
  ]
}